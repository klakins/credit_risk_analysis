{
 "cells": [
  {
   "cell_type": "markdown",
   "id": "4b87a7f5",
   "metadata": {},
   "source": [
    "# **Credit Risk Analytics: Predicting Loan Interest Rates and Default Probability**\n",
    "\n",
    "In this project, the primary goal is to develop predictive models using multiple regression and logistic regression to gain insights into the factors influencing loan interest rates and to predict the likelihood of loan default.\n",
    "\n",
    "**1. Multiple Regression Model for Interest Rate Prediction.**\n",
    "\n",
    "The aim to build a multiple regression model to predict loan interest rates based on various individual characteristics.\n",
    "\n",
    "The features considered for this model include:\n",
    "\n",
    "person_age , person_income , person_home_ownership, person_emp_length, loan_intent, loan_amnt, loan_percent_income, cb_person_default_on_file, cb_person_cred_hist_length\n",
    "\n",
    "**2. Logistic Regression Model for Default Prediction. **\n",
    "\n",
    "The second objective is to construct a logistic regression model to predict the likelihood of a loan default. The aim is to leverage the same set of features to analyze the characteristics of individuals who are more likely to default on a loan. The target variable for this model is 'loan_status,' indicating whether a loan has defaulted or not.\n",
    "\n",
    "By exploring and interpreting the coefficients of the logistic regression model, we can identify key factors that significantly impact the likelihood of loan default. This insight can be valuable for risk assessment and decision-making in the lending process.\n",
    "\n",
    "Through these predictive models, the aim is to provide a data-driven understanding of the factors influencing loan interest rates and the characteristics associated with loan default. The analysis will contribute to informed decision-making in the lending domain.\n",
    "\n",
    "**Data was sourced from Kaggle **"
   ]
  },
  {
   "cell_type": "code",
   "execution_count": 18,
   "id": "b099ed31",
   "metadata": {},
   "outputs": [],
   "source": [
    "import pandas as pd\n",
    "import seaborn as sns\n",
    "import matplotlib.pyplot as plt\n",
    "from sklearn import linear_model"
   ]
  },
  {
   "cell_type": "code",
   "execution_count": 2,
   "id": "aa749c92",
   "metadata": {
    "scrolled": true
   },
   "outputs": [
    {
     "data": {
      "text/html": [
       "<div>\n",
       "<style scoped>\n",
       "    .dataframe tbody tr th:only-of-type {\n",
       "        vertical-align: middle;\n",
       "    }\n",
       "\n",
       "    .dataframe tbody tr th {\n",
       "        vertical-align: top;\n",
       "    }\n",
       "\n",
       "    .dataframe thead th {\n",
       "        text-align: right;\n",
       "    }\n",
       "</style>\n",
       "<table border=\"1\" class=\"dataframe\">\n",
       "  <thead>\n",
       "    <tr style=\"text-align: right;\">\n",
       "      <th></th>\n",
       "      <th>person_age</th>\n",
       "      <th>person_income</th>\n",
       "      <th>person_home_ownership</th>\n",
       "      <th>person_emp_length</th>\n",
       "      <th>loan_intent</th>\n",
       "      <th>loan_amnt</th>\n",
       "      <th>loan_int_rate</th>\n",
       "      <th>loan_status</th>\n",
       "      <th>loan_percent_income</th>\n",
       "      <th>cb_person_default_on_file</th>\n",
       "      <th>cb_person_cred_hist_length</th>\n",
       "    </tr>\n",
       "  </thead>\n",
       "  <tbody>\n",
       "    <tr>\n",
       "      <th>0</th>\n",
       "      <td>22</td>\n",
       "      <td>59000</td>\n",
       "      <td>RENT</td>\n",
       "      <td>123.0</td>\n",
       "      <td>PERSONAL</td>\n",
       "      <td>35000</td>\n",
       "      <td>16.02</td>\n",
       "      <td>1</td>\n",
       "      <td>0.59</td>\n",
       "      <td>Y</td>\n",
       "      <td>3</td>\n",
       "    </tr>\n",
       "    <tr>\n",
       "      <th>1</th>\n",
       "      <td>21</td>\n",
       "      <td>9600</td>\n",
       "      <td>OWN</td>\n",
       "      <td>5.0</td>\n",
       "      <td>EDUCATION</td>\n",
       "      <td>1000</td>\n",
       "      <td>11.14</td>\n",
       "      <td>0</td>\n",
       "      <td>0.10</td>\n",
       "      <td>N</td>\n",
       "      <td>2</td>\n",
       "    </tr>\n",
       "    <tr>\n",
       "      <th>2</th>\n",
       "      <td>25</td>\n",
       "      <td>9600</td>\n",
       "      <td>MORTGAGE</td>\n",
       "      <td>1.0</td>\n",
       "      <td>MEDICAL</td>\n",
       "      <td>5500</td>\n",
       "      <td>12.87</td>\n",
       "      <td>1</td>\n",
       "      <td>0.57</td>\n",
       "      <td>N</td>\n",
       "      <td>3</td>\n",
       "    </tr>\n",
       "    <tr>\n",
       "      <th>3</th>\n",
       "      <td>23</td>\n",
       "      <td>65500</td>\n",
       "      <td>RENT</td>\n",
       "      <td>4.0</td>\n",
       "      <td>MEDICAL</td>\n",
       "      <td>35000</td>\n",
       "      <td>15.23</td>\n",
       "      <td>1</td>\n",
       "      <td>0.53</td>\n",
       "      <td>N</td>\n",
       "      <td>2</td>\n",
       "    </tr>\n",
       "    <tr>\n",
       "      <th>4</th>\n",
       "      <td>24</td>\n",
       "      <td>54400</td>\n",
       "      <td>RENT</td>\n",
       "      <td>8.0</td>\n",
       "      <td>MEDICAL</td>\n",
       "      <td>35000</td>\n",
       "      <td>14.27</td>\n",
       "      <td>1</td>\n",
       "      <td>0.55</td>\n",
       "      <td>Y</td>\n",
       "      <td>4</td>\n",
       "    </tr>\n",
       "  </tbody>\n",
       "</table>\n",
       "</div>"
      ],
      "text/plain": [
       "   person_age  person_income person_home_ownership  person_emp_length  \\\n",
       "0          22          59000                  RENT              123.0   \n",
       "1          21           9600                   OWN                5.0   \n",
       "2          25           9600              MORTGAGE                1.0   \n",
       "3          23          65500                  RENT                4.0   \n",
       "4          24          54400                  RENT                8.0   \n",
       "\n",
       "  loan_intent  loan_amnt  loan_int_rate  loan_status  loan_percent_income  \\\n",
       "0    PERSONAL      35000          16.02            1                 0.59   \n",
       "1   EDUCATION       1000          11.14            0                 0.10   \n",
       "2     MEDICAL       5500          12.87            1                 0.57   \n",
       "3     MEDICAL      35000          15.23            1                 0.53   \n",
       "4     MEDICAL      35000          14.27            1                 0.55   \n",
       "\n",
       "  cb_person_default_on_file  cb_person_cred_hist_length  \n",
       "0                         Y                           3  \n",
       "1                         N                           2  \n",
       "2                         N                           3  \n",
       "3                         N                           2  \n",
       "4                         Y                           4  "
      ]
     },
     "execution_count": 2,
     "metadata": {},
     "output_type": "execute_result"
    }
   ],
   "source": [
    "credit_risk_data = pd.read_csv('data/credit_risk_dataset.csv')\n",
    "credit_risk_data.head()"
   ]
  },
  {
   "cell_type": "markdown",
   "id": "b0e1db21",
   "metadata": {},
   "source": [
    "# EDA "
   ]
  },
  {
   "cell_type": "code",
   "execution_count": 3,
   "id": "284ce124",
   "metadata": {
    "scrolled": true
   },
   "outputs": [
    {
     "data": {
      "text/plain": [
       "N    26836\n",
       "Y     5745\n",
       "Name: cb_person_default_on_file, dtype: int64"
      ]
     },
     "execution_count": 3,
     "metadata": {},
     "output_type": "execute_result"
    }
   ],
   "source": [
    "credit_risk_data['cb_person_default_on_file'].value_counts()"
   ]
  },
  {
   "cell_type": "code",
   "execution_count": 4,
   "id": "c1b6d1e7",
   "metadata": {},
   "outputs": [
    {
     "name": "stdout",
     "output_type": "stream",
     "text": [
      "<class 'pandas.core.frame.DataFrame'>\n",
      "RangeIndex: 32581 entries, 0 to 32580\n",
      "Data columns (total 11 columns):\n",
      " #   Column                      Non-Null Count  Dtype  \n",
      "---  ------                      --------------  -----  \n",
      " 0   person_age                  32581 non-null  int64  \n",
      " 1   person_income               32581 non-null  int64  \n",
      " 2   person_home_ownership       32581 non-null  object \n",
      " 3   person_emp_length           31686 non-null  float64\n",
      " 4   loan_intent                 32581 non-null  object \n",
      " 5   loan_amnt                   32581 non-null  int64  \n",
      " 6   loan_int_rate               29465 non-null  float64\n",
      " 7   loan_status                 32581 non-null  int64  \n",
      " 8   loan_percent_income         32581 non-null  float64\n",
      " 9   cb_person_default_on_file   32581 non-null  object \n",
      " 10  cb_person_cred_hist_length  32581 non-null  int64  \n",
      "dtypes: float64(3), int64(5), object(3)\n",
      "memory usage: 2.7+ MB\n"
     ]
    }
   ],
   "source": [
    "credit_risk_data.info()"
   ]
  },
  {
   "cell_type": "code",
   "execution_count": 5,
   "id": "8e07fe90",
   "metadata": {},
   "outputs": [
    {
     "data": {
      "text/html": [
       "<div>\n",
       "<style scoped>\n",
       "    .dataframe tbody tr th:only-of-type {\n",
       "        vertical-align: middle;\n",
       "    }\n",
       "\n",
       "    .dataframe tbody tr th {\n",
       "        vertical-align: top;\n",
       "    }\n",
       "\n",
       "    .dataframe thead th {\n",
       "        text-align: right;\n",
       "    }\n",
       "</style>\n",
       "<table border=\"1\" class=\"dataframe\">\n",
       "  <thead>\n",
       "    <tr style=\"text-align: right;\">\n",
       "      <th></th>\n",
       "      <th>person_age</th>\n",
       "      <th>person_income</th>\n",
       "      <th>person_emp_length</th>\n",
       "      <th>loan_amnt</th>\n",
       "      <th>loan_int_rate</th>\n",
       "      <th>loan_status</th>\n",
       "      <th>loan_percent_income</th>\n",
       "      <th>cb_person_cred_hist_length</th>\n",
       "    </tr>\n",
       "  </thead>\n",
       "  <tbody>\n",
       "    <tr>\n",
       "      <th>count</th>\n",
       "      <td>32581.000000</td>\n",
       "      <td>3.258100e+04</td>\n",
       "      <td>31686.000000</td>\n",
       "      <td>32581.000000</td>\n",
       "      <td>29465.000000</td>\n",
       "      <td>32581.000000</td>\n",
       "      <td>32581.000000</td>\n",
       "      <td>32581.000000</td>\n",
       "    </tr>\n",
       "    <tr>\n",
       "      <th>mean</th>\n",
       "      <td>27.734600</td>\n",
       "      <td>6.607485e+04</td>\n",
       "      <td>4.789686</td>\n",
       "      <td>9589.371106</td>\n",
       "      <td>11.011695</td>\n",
       "      <td>0.218164</td>\n",
       "      <td>0.170203</td>\n",
       "      <td>5.804211</td>\n",
       "    </tr>\n",
       "    <tr>\n",
       "      <th>std</th>\n",
       "      <td>6.348078</td>\n",
       "      <td>6.198312e+04</td>\n",
       "      <td>4.142630</td>\n",
       "      <td>6322.086646</td>\n",
       "      <td>3.240459</td>\n",
       "      <td>0.413006</td>\n",
       "      <td>0.106782</td>\n",
       "      <td>4.055001</td>\n",
       "    </tr>\n",
       "    <tr>\n",
       "      <th>min</th>\n",
       "      <td>20.000000</td>\n",
       "      <td>4.000000e+03</td>\n",
       "      <td>0.000000</td>\n",
       "      <td>500.000000</td>\n",
       "      <td>5.420000</td>\n",
       "      <td>0.000000</td>\n",
       "      <td>0.000000</td>\n",
       "      <td>2.000000</td>\n",
       "    </tr>\n",
       "    <tr>\n",
       "      <th>25%</th>\n",
       "      <td>23.000000</td>\n",
       "      <td>3.850000e+04</td>\n",
       "      <td>2.000000</td>\n",
       "      <td>5000.000000</td>\n",
       "      <td>7.900000</td>\n",
       "      <td>0.000000</td>\n",
       "      <td>0.090000</td>\n",
       "      <td>3.000000</td>\n",
       "    </tr>\n",
       "    <tr>\n",
       "      <th>50%</th>\n",
       "      <td>26.000000</td>\n",
       "      <td>5.500000e+04</td>\n",
       "      <td>4.000000</td>\n",
       "      <td>8000.000000</td>\n",
       "      <td>10.990000</td>\n",
       "      <td>0.000000</td>\n",
       "      <td>0.150000</td>\n",
       "      <td>4.000000</td>\n",
       "    </tr>\n",
       "    <tr>\n",
       "      <th>75%</th>\n",
       "      <td>30.000000</td>\n",
       "      <td>7.920000e+04</td>\n",
       "      <td>7.000000</td>\n",
       "      <td>12200.000000</td>\n",
       "      <td>13.470000</td>\n",
       "      <td>0.000000</td>\n",
       "      <td>0.230000</td>\n",
       "      <td>8.000000</td>\n",
       "    </tr>\n",
       "    <tr>\n",
       "      <th>max</th>\n",
       "      <td>144.000000</td>\n",
       "      <td>6.000000e+06</td>\n",
       "      <td>123.000000</td>\n",
       "      <td>35000.000000</td>\n",
       "      <td>23.220000</td>\n",
       "      <td>1.000000</td>\n",
       "      <td>0.830000</td>\n",
       "      <td>30.000000</td>\n",
       "    </tr>\n",
       "  </tbody>\n",
       "</table>\n",
       "</div>"
      ],
      "text/plain": [
       "         person_age  person_income  person_emp_length     loan_amnt  \\\n",
       "count  32581.000000   3.258100e+04       31686.000000  32581.000000   \n",
       "mean      27.734600   6.607485e+04           4.789686   9589.371106   \n",
       "std        6.348078   6.198312e+04           4.142630   6322.086646   \n",
       "min       20.000000   4.000000e+03           0.000000    500.000000   \n",
       "25%       23.000000   3.850000e+04           2.000000   5000.000000   \n",
       "50%       26.000000   5.500000e+04           4.000000   8000.000000   \n",
       "75%       30.000000   7.920000e+04           7.000000  12200.000000   \n",
       "max      144.000000   6.000000e+06         123.000000  35000.000000   \n",
       "\n",
       "       loan_int_rate   loan_status  loan_percent_income  \\\n",
       "count   29465.000000  32581.000000         32581.000000   \n",
       "mean       11.011695      0.218164             0.170203   \n",
       "std         3.240459      0.413006             0.106782   \n",
       "min         5.420000      0.000000             0.000000   \n",
       "25%         7.900000      0.000000             0.090000   \n",
       "50%        10.990000      0.000000             0.150000   \n",
       "75%        13.470000      0.000000             0.230000   \n",
       "max        23.220000      1.000000             0.830000   \n",
       "\n",
       "       cb_person_cred_hist_length  \n",
       "count                32581.000000  \n",
       "mean                     5.804211  \n",
       "std                      4.055001  \n",
       "min                      2.000000  \n",
       "25%                      3.000000  \n",
       "50%                      4.000000  \n",
       "75%                      8.000000  \n",
       "max                     30.000000  "
      ]
     },
     "execution_count": 5,
     "metadata": {},
     "output_type": "execute_result"
    }
   ],
   "source": [
    "# get summary stats\n",
    "credit_risk_data.describe()"
   ]
  },
  {
   "cell_type": "code",
   "execution_count": 6,
   "id": "f19bde80",
   "metadata": {},
   "outputs": [
    {
     "data": {
      "text/plain": [
       "person_emp_length     895\n",
       "loan_int_rate        3116\n",
       "dtype: int64"
      ]
     },
     "execution_count": 6,
     "metadata": {},
     "output_type": "execute_result"
    }
   ],
   "source": [
    "#  count of null values in the employment length and interest rate columns\n",
    "credit_risk_data.isnull().sum()[['person_emp_length','loan_int_rate']]"
   ]
  },
  {
   "cell_type": "code",
   "execution_count": 7,
   "id": "400bee5d",
   "metadata": {},
   "outputs": [
    {
     "name": "stdout",
     "output_type": "stream",
     "text": [
      "Duplicate rows in the DataFrame:\n"
     ]
    },
    {
     "data": {
      "text/plain": [
       "person_age                    165\n",
       "person_income                 165\n",
       "person_home_ownership         165\n",
       "person_emp_length             157\n",
       "loan_intent                   165\n",
       "loan_amnt                     165\n",
       "loan_int_rate                 144\n",
       "loan_status                   165\n",
       "loan_percent_income           165\n",
       "cb_person_default_on_file     165\n",
       "cb_person_cred_hist_length    165\n",
       "dtype: int64"
      ]
     },
     "execution_count": 7,
     "metadata": {},
     "output_type": "execute_result"
    }
   ],
   "source": [
    "# check for duplicates \n",
    "duplicates = credit_risk_data[credit_risk_data.duplicated()]\n",
    "\n",
    "# Print the count of duplicates\n",
    "print(\"Duplicate rows in the DataFrame:\")\n",
    "duplicates.count()"
   ]
  },
  {
   "cell_type": "code",
   "execution_count": 8,
   "id": "a0b83476",
   "metadata": {
    "scrolled": true
   },
   "outputs": [
    {
     "name": "stdout",
     "output_type": "stream",
     "text": [
      "       age  income home_ownernship_status  employment_length      loan_intent  \\\n",
      "1       21    9600                    own                5.0        education   \n",
      "2       25    9600               mortgage                1.0          medical   \n",
      "3       23   65500                   rent                4.0          medical   \n",
      "4       24   54400                   rent                8.0          medical   \n",
      "5       21    9900                    own                2.0          venture   \n",
      "...    ...     ...                    ...                ...              ...   \n",
      "32576   57   53000               mortgage                1.0         personal   \n",
      "32577   54  120000               mortgage                4.0         personal   \n",
      "32578   65   76000                   rent                3.0  homeimprovement   \n",
      "32579   56  150000               mortgage                5.0         personal   \n",
      "32580   66   42000                   rent                2.0          medical   \n",
      "\n",
      "       loan_amnt  loan_int_rate  loan_status  percent_of_income  \\\n",
      "1           1000          11.14            0               0.10   \n",
      "2           5500          12.87            1               0.57   \n",
      "3          35000          15.23            1               0.53   \n",
      "4          35000          14.27            1               0.55   \n",
      "5           2500           7.14            1               0.25   \n",
      "...          ...            ...          ...                ...   \n",
      "32576       5800          13.16            0               0.11   \n",
      "32577      17625           7.49            0               0.15   \n",
      "32578      35000          10.99            1               0.46   \n",
      "32579      15000          11.48            0               0.10   \n",
      "32580       6475           9.99            0               0.15   \n",
      "\n",
      "       historical_default  credit_history_length   \n",
      "1                       0                       2  \n",
      "2                       0                       3  \n",
      "3                       0                       2  \n",
      "4                       1                       4  \n",
      "5                       0                       2  \n",
      "...                   ...                     ...  \n",
      "32576                   0                      30  \n",
      "32577                   0                      19  \n",
      "32578                   0                      28  \n",
      "32579                   0                      26  \n",
      "32580                   0                      30  \n",
      "\n",
      "[28631 rows x 11 columns]\n"
     ]
    }
   ],
   "source": [
    "def clean_credit_risk_data(dataset):\n",
    "    # Remove white space and lowercase all characters\n",
    "    dataset = dataset.applymap(lambda x: x.strip().lower() if isinstance(x, str) else x)\n",
    "    \n",
    "    # Remove rows where age > 80\n",
    "    dataset = dataset[dataset['person_age'] <= 80]\n",
    "    \n",
    "    # Remove rows where employment length is > 80\n",
    "    dataset = dataset[dataset['person_emp_length'] <= 70]\n",
    "\n",
    "    # drop nulls\n",
    "    dataset.dropna(subset = ['person_emp_length'], inplace=True)\n",
    "    dataset.dropna(subset = ['loan_int_rate'], inplace=True)\n",
    "    \n",
    "    # drop duplicates\n",
    "    dataset.drop_duplicates() \n",
    "    \n",
    "    # Rename columns \n",
    "    dataset.rename(columns = {'person_age':'age',\n",
    "                             'person_income': 'income',\n",
    "                             'person_home_ownership': 'home_ownernship_status',\n",
    "                             'person_emp_length': 'employment_length',\n",
    "                             'loan_percent_income': 'percent_of_income',\n",
    "                             'cb_person_default_on_file': 'historical_default',\n",
    "                             'cb_person_cred_hist_length':'credit_history_length '},inplace = True)\n",
    "    \n",
    "    # Convert 'y' to 1 and 'n' to 0 in the 'historical_default' column\n",
    "    dataset['historical_default'] = dataset['historical_default'].astype(str).replace({'y': '1', 'n': '0'})\n",
    "    \n",
    "    # Convert the column to numeric type\n",
    "    dataset['historical_default'] = pd.to_numeric(dataset['historical_default'], errors='coerce')\n",
    "    \n",
    "    return dataset\n",
    "\n",
    "\n",
    "# Clean the credit risk dataset using the function\n",
    "cr_data = clean_credit_risk_data(credit_risk_data.copy())\n",
    "\n",
    "# Print the cleaned dataset\n",
    "print(cr_data)"
   ]
  },
  {
   "cell_type": "code",
   "execution_count": 9,
   "id": "1e7de81d",
   "metadata": {},
   "outputs": [
    {
     "data": {
      "text/html": [
       "<div>\n",
       "<style scoped>\n",
       "    .dataframe tbody tr th:only-of-type {\n",
       "        vertical-align: middle;\n",
       "    }\n",
       "\n",
       "    .dataframe tbody tr th {\n",
       "        vertical-align: top;\n",
       "    }\n",
       "\n",
       "    .dataframe thead th {\n",
       "        text-align: right;\n",
       "    }\n",
       "</style>\n",
       "<table border=\"1\" class=\"dataframe\">\n",
       "  <thead>\n",
       "    <tr style=\"text-align: right;\">\n",
       "      <th></th>\n",
       "      <th>age</th>\n",
       "      <th>income</th>\n",
       "      <th>home_ownernship_status</th>\n",
       "      <th>employment_length</th>\n",
       "      <th>loan_intent</th>\n",
       "      <th>loan_amnt</th>\n",
       "      <th>loan_int_rate</th>\n",
       "      <th>loan_status</th>\n",
       "      <th>percent_of_income</th>\n",
       "      <th>historical_default</th>\n",
       "      <th>credit_history_length</th>\n",
       "    </tr>\n",
       "  </thead>\n",
       "  <tbody>\n",
       "    <tr>\n",
       "      <th>1</th>\n",
       "      <td>21</td>\n",
       "      <td>9600</td>\n",
       "      <td>own</td>\n",
       "      <td>5.0</td>\n",
       "      <td>education</td>\n",
       "      <td>1000</td>\n",
       "      <td>11.14</td>\n",
       "      <td>0</td>\n",
       "      <td>0.10</td>\n",
       "      <td>0</td>\n",
       "      <td>2</td>\n",
       "    </tr>\n",
       "    <tr>\n",
       "      <th>2</th>\n",
       "      <td>25</td>\n",
       "      <td>9600</td>\n",
       "      <td>mortgage</td>\n",
       "      <td>1.0</td>\n",
       "      <td>medical</td>\n",
       "      <td>5500</td>\n",
       "      <td>12.87</td>\n",
       "      <td>1</td>\n",
       "      <td>0.57</td>\n",
       "      <td>0</td>\n",
       "      <td>3</td>\n",
       "    </tr>\n",
       "    <tr>\n",
       "      <th>3</th>\n",
       "      <td>23</td>\n",
       "      <td>65500</td>\n",
       "      <td>rent</td>\n",
       "      <td>4.0</td>\n",
       "      <td>medical</td>\n",
       "      <td>35000</td>\n",
       "      <td>15.23</td>\n",
       "      <td>1</td>\n",
       "      <td>0.53</td>\n",
       "      <td>0</td>\n",
       "      <td>2</td>\n",
       "    </tr>\n",
       "    <tr>\n",
       "      <th>4</th>\n",
       "      <td>24</td>\n",
       "      <td>54400</td>\n",
       "      <td>rent</td>\n",
       "      <td>8.0</td>\n",
       "      <td>medical</td>\n",
       "      <td>35000</td>\n",
       "      <td>14.27</td>\n",
       "      <td>1</td>\n",
       "      <td>0.55</td>\n",
       "      <td>1</td>\n",
       "      <td>4</td>\n",
       "    </tr>\n",
       "    <tr>\n",
       "      <th>5</th>\n",
       "      <td>21</td>\n",
       "      <td>9900</td>\n",
       "      <td>own</td>\n",
       "      <td>2.0</td>\n",
       "      <td>venture</td>\n",
       "      <td>2500</td>\n",
       "      <td>7.14</td>\n",
       "      <td>1</td>\n",
       "      <td>0.25</td>\n",
       "      <td>0</td>\n",
       "      <td>2</td>\n",
       "    </tr>\n",
       "  </tbody>\n",
       "</table>\n",
       "</div>"
      ],
      "text/plain": [
       "   age  income home_ownernship_status  employment_length loan_intent  \\\n",
       "1   21    9600                    own                5.0   education   \n",
       "2   25    9600               mortgage                1.0     medical   \n",
       "3   23   65500                   rent                4.0     medical   \n",
       "4   24   54400                   rent                8.0     medical   \n",
       "5   21    9900                    own                2.0     venture   \n",
       "\n",
       "   loan_amnt  loan_int_rate  loan_status  percent_of_income  \\\n",
       "1       1000          11.14            0               0.10   \n",
       "2       5500          12.87            1               0.57   \n",
       "3      35000          15.23            1               0.53   \n",
       "4      35000          14.27            1               0.55   \n",
       "5       2500           7.14            1               0.25   \n",
       "\n",
       "   historical_default  credit_history_length   \n",
       "1                   0                       2  \n",
       "2                   0                       3  \n",
       "3                   0                       2  \n",
       "4                   1                       4  \n",
       "5                   0                       2  "
      ]
     },
     "execution_count": 9,
     "metadata": {},
     "output_type": "execute_result"
    }
   ],
   "source": [
    "#check to see if data cleaning rules were applied\n",
    "cr_data.head()"
   ]
  },
  {
   "cell_type": "markdown",
   "id": "626c3870",
   "metadata": {},
   "source": [
    "**Strong Positive Correlations:**\n",
    "* age and credit_history_length' have a strong positive correlation of 0.88.\n",
    "* income and loan_amnt have a moderate positive correlation of 0.32.\n",
    "* loan_amnt and percent_of_income have a strong positive correlation of 0.58.\n",
    "\n",
    "**Strong Negative Correlation:**\n",
    "* loan_status and percent_of_income have a strong negative correlation of -0.38.\n",
    "\n",
    "**Weak Correlations:**\n",
    "* Most other correlations are relatively weak (close to 0)"
   ]
  },
  {
   "cell_type": "code",
   "execution_count": 10,
   "id": "6b48d6bf",
   "metadata": {
    "scrolled": true
   },
   "outputs": [
    {
     "data": {
      "text/html": [
       "<div>\n",
       "<style scoped>\n",
       "    .dataframe tbody tr th:only-of-type {\n",
       "        vertical-align: middle;\n",
       "    }\n",
       "\n",
       "    .dataframe tbody tr th {\n",
       "        vertical-align: top;\n",
       "    }\n",
       "\n",
       "    .dataframe thead th {\n",
       "        text-align: right;\n",
       "    }\n",
       "</style>\n",
       "<table border=\"1\" class=\"dataframe\">\n",
       "  <thead>\n",
       "    <tr style=\"text-align: right;\">\n",
       "      <th></th>\n",
       "      <th>age</th>\n",
       "      <th>income</th>\n",
       "      <th>employment_length</th>\n",
       "      <th>loan_amnt</th>\n",
       "      <th>loan_int_rate</th>\n",
       "      <th>loan_status</th>\n",
       "      <th>percent_of_income</th>\n",
       "      <th>historical_default</th>\n",
       "      <th>credit_history_length</th>\n",
       "    </tr>\n",
       "  </thead>\n",
       "  <tbody>\n",
       "    <tr>\n",
       "      <th>age</th>\n",
       "      <td>1.000000</td>\n",
       "      <td>0.141502</td>\n",
       "      <td>0.176532</td>\n",
       "      <td>0.056125</td>\n",
       "      <td>0.010734</td>\n",
       "      <td>-0.022363</td>\n",
       "      <td>-0.039355</td>\n",
       "      <td>0.009325</td>\n",
       "      <td>0.877732</td>\n",
       "    </tr>\n",
       "    <tr>\n",
       "      <th>income</th>\n",
       "      <td>0.141502</td>\n",
       "      <td>1.000000</td>\n",
       "      <td>0.160967</td>\n",
       "      <td>0.324767</td>\n",
       "      <td>-0.003747</td>\n",
       "      <td>-0.167020</td>\n",
       "      <td>-0.297627</td>\n",
       "      <td>-0.001242</td>\n",
       "      <td>0.122745</td>\n",
       "    </tr>\n",
       "    <tr>\n",
       "      <th>employment_length</th>\n",
       "      <td>0.176532</td>\n",
       "      <td>0.160967</td>\n",
       "      <td>1.000000</td>\n",
       "      <td>0.108393</td>\n",
       "      <td>-0.058291</td>\n",
       "      <td>-0.086500</td>\n",
       "      <td>-0.060114</td>\n",
       "      <td>-0.030411</td>\n",
       "      <td>0.151734</td>\n",
       "    </tr>\n",
       "    <tr>\n",
       "      <th>loan_amnt</th>\n",
       "      <td>0.056125</td>\n",
       "      <td>0.324767</td>\n",
       "      <td>0.108393</td>\n",
       "      <td>1.000000</td>\n",
       "      <td>0.145900</td>\n",
       "      <td>0.113364</td>\n",
       "      <td>0.577201</td>\n",
       "      <td>0.040061</td>\n",
       "      <td>0.045588</td>\n",
       "    </tr>\n",
       "    <tr>\n",
       "      <th>loan_int_rate</th>\n",
       "      <td>0.010734</td>\n",
       "      <td>-0.003747</td>\n",
       "      <td>-0.058291</td>\n",
       "      <td>0.145900</td>\n",
       "      <td>1.000000</td>\n",
       "      <td>0.339296</td>\n",
       "      <td>0.123383</td>\n",
       "      <td>0.500228</td>\n",
       "      <td>0.015508</td>\n",
       "    </tr>\n",
       "    <tr>\n",
       "      <th>loan_status</th>\n",
       "      <td>-0.022363</td>\n",
       "      <td>-0.167020</td>\n",
       "      <td>-0.086500</td>\n",
       "      <td>0.113364</td>\n",
       "      <td>0.339296</td>\n",
       "      <td>1.000000</td>\n",
       "      <td>0.379527</td>\n",
       "      <td>0.181860</td>\n",
       "      <td>-0.015498</td>\n",
       "    </tr>\n",
       "    <tr>\n",
       "      <th>percent_of_income</th>\n",
       "      <td>-0.039355</td>\n",
       "      <td>-0.297627</td>\n",
       "      <td>-0.060114</td>\n",
       "      <td>0.577201</td>\n",
       "      <td>0.123383</td>\n",
       "      <td>0.379527</td>\n",
       "      <td>1.000000</td>\n",
       "      <td>0.035815</td>\n",
       "      <td>-0.029736</td>\n",
       "    </tr>\n",
       "    <tr>\n",
       "      <th>historical_default</th>\n",
       "      <td>0.009325</td>\n",
       "      <td>-0.001242</td>\n",
       "      <td>-0.030411</td>\n",
       "      <td>0.040061</td>\n",
       "      <td>0.500228</td>\n",
       "      <td>0.181860</td>\n",
       "      <td>0.035815</td>\n",
       "      <td>1.000000</td>\n",
       "      <td>0.008561</td>\n",
       "    </tr>\n",
       "    <tr>\n",
       "      <th>credit_history_length</th>\n",
       "      <td>0.877732</td>\n",
       "      <td>0.122745</td>\n",
       "      <td>0.151734</td>\n",
       "      <td>0.045588</td>\n",
       "      <td>0.015508</td>\n",
       "      <td>-0.015498</td>\n",
       "      <td>-0.029736</td>\n",
       "      <td>0.008561</td>\n",
       "      <td>1.000000</td>\n",
       "    </tr>\n",
       "  </tbody>\n",
       "</table>\n",
       "</div>"
      ],
      "text/plain": [
       "                             age    income  employment_length  loan_amnt  \\\n",
       "age                     1.000000  0.141502           0.176532   0.056125   \n",
       "income                  0.141502  1.000000           0.160967   0.324767   \n",
       "employment_length       0.176532  0.160967           1.000000   0.108393   \n",
       "loan_amnt               0.056125  0.324767           0.108393   1.000000   \n",
       "loan_int_rate           0.010734 -0.003747          -0.058291   0.145900   \n",
       "loan_status            -0.022363 -0.167020          -0.086500   0.113364   \n",
       "percent_of_income      -0.039355 -0.297627          -0.060114   0.577201   \n",
       "historical_default      0.009325 -0.001242          -0.030411   0.040061   \n",
       "credit_history_length   0.877732  0.122745           0.151734   0.045588   \n",
       "\n",
       "                        loan_int_rate  loan_status  percent_of_income  \\\n",
       "age                          0.010734    -0.022363          -0.039355   \n",
       "income                      -0.003747    -0.167020          -0.297627   \n",
       "employment_length           -0.058291    -0.086500          -0.060114   \n",
       "loan_amnt                    0.145900     0.113364           0.577201   \n",
       "loan_int_rate                1.000000     0.339296           0.123383   \n",
       "loan_status                  0.339296     1.000000           0.379527   \n",
       "percent_of_income            0.123383     0.379527           1.000000   \n",
       "historical_default           0.500228     0.181860           0.035815   \n",
       "credit_history_length        0.015508    -0.015498          -0.029736   \n",
       "\n",
       "                        historical_default  credit_history_length   \n",
       "age                               0.009325                0.877732  \n",
       "income                           -0.001242                0.122745  \n",
       "employment_length                -0.030411                0.151734  \n",
       "loan_amnt                         0.040061                0.045588  \n",
       "loan_int_rate                     0.500228                0.015508  \n",
       "loan_status                       0.181860               -0.015498  \n",
       "percent_of_income                 0.035815               -0.029736  \n",
       "historical_default                1.000000                0.008561  \n",
       "credit_history_length             0.008561                1.000000  "
      ]
     },
     "execution_count": 10,
     "metadata": {},
     "output_type": "execute_result"
    }
   ],
   "source": [
    "cr_data.corr()"
   ]
  },
  {
   "cell_type": "markdown",
   "id": "9e06d8de",
   "metadata": {},
   "source": [
    "# EDA - VISUALIZATION"
   ]
  },
  {
   "cell_type": "code",
   "execution_count": 11,
   "id": "ed234fc3",
   "metadata": {
    "scrolled": true
   },
   "outputs": [
    {
     "data": {
      "image/png": "[encoded data removed]",
      "text/plain": [
       "<Figure size 1080x360 with 2 Axes>"
      ]
     },
     "metadata": {
      "needs_background": "light"
     },
     "output_type": "display_data"
    },
    {
     "data": {
      "image/png": "[encoded data removed]",
      "text/plain": [
       "<Figure size 432x288 with 1 Axes>"
      ]
     },
     "metadata": {
      "needs_background": "light"
     },
     "output_type": "display_data"
    }
   ],
   "source": [
    "# Graphs plotted to better understand age and loan interest distribution\n",
    "# this will allow us to see how spread/close apart age is and\n",
    "# how wide of a band between the most risky and least risky \n",
    "# For better contex, assessing the count of default vs. no default to better understand\n",
    "# how imbalanced/imbalanced the data is.\n",
    "\n",
    "# Create subplots\n",
    "fig, axs = plt.subplots(1, 2, figsize=(15, 5))\n",
    "\n",
    "# Plot Age Distribution\n",
    "axs[0].hist(cr_data['age'], bins=30, color='blue', alpha=0.7)\n",
    "axs[0].set_title('Age Distribution')\n",
    "\n",
    "# Plot Loan Amount Distribution\n",
    "axs[1].hist(cr_data['loan_int_rate'], bins=30, color='green', alpha=0.7)\n",
    "axs[1].set_title('Loan Amount Distribution')\n",
    "\n",
    "# Adjust layout to prevent overlapping\n",
    "plt.tight_layout()\n",
    "\n",
    "# Show the plots\n",
    "plt.show()\n",
    "\n",
    "# Plot Historical Default\n",
    "default_counts = cr_data['historical_default'].value_counts()\n",
    "plt.figure(figsize=(6, 4))\n",
    "default_counts.plot(kind='bar', color='purple', alpha=0.7)\n",
    "plt.title('Historical Default Distribution')\n",
    "plt.xlabel('Default Status')\n",
    "plt.ylabel('Count')\n",
    "plt.show()"
   ]
  },
  {
   "cell_type": "markdown",
   "id": "97f1e423",
   "metadata": {},
   "source": [
    "# Build Model (to be updated)"
   ]
  },
  {
   "cell_type": "markdown",
   "id": "851bb674",
   "metadata": {},
   "source": [
    "**Multiple Linear Regression**\n",
    "* Build model - need to split the data into train/test (80/20)"
   ]
  },
  {
   "cell_type": "code",
   "execution_count": 12,
   "id": "57b06708",
   "metadata": {},
   "outputs": [],
   "source": [
    "reg = linear_model.LinearRegression()"
   ]
  },
  {
   "cell_type": "code",
   "execution_count": 13,
   "id": "421a4953",
   "metadata": {},
   "outputs": [],
   "source": [
    "y = cr_data['loan_int_rate']\n",
    "x = cr_data[['age', 'income']]"
   ]
  },
  {
   "cell_type": "code",
   "execution_count": 14,
   "id": "62cc5c4c",
   "metadata": {},
   "outputs": [
    {
     "data": {
      "text/plain": [
       "LinearRegression()"
      ]
     },
     "execution_count": 14,
     "metadata": {},
     "output_type": "execute_result"
    }
   ],
   "source": [
    "reg = linear_model.LinearRegression()\n",
    "reg.fit(x,y)"
   ]
  },
  {
   "cell_type": "code",
   "execution_count": 15,
   "id": "a7e2b21d",
   "metadata": {},
   "outputs": [
    {
     "data": {
      "text/plain": [
       "LinearRegression()"
      ]
     },
     "execution_count": 15,
     "metadata": {},
     "output_type": "execute_result"
    }
   ],
   "source": [
    "#for each one unit increase in age, the loan interest rate increase by approximately 0.0006\n",
    "# for each increase in income, the loan interest rate decreases by approximately 0.000000337\n",
    "reg = linear_model.LinearRegression()\n",
    "reg.fit(x,y)"
   ]
  },
  {
   "cell_type": "code",
   "execution_count": 16,
   "id": "0ab58d23",
   "metadata": {},
   "outputs": [
    {
     "data": {
      "text/plain": [
       "10.895290785116892"
      ]
     },
     "execution_count": 16,
     "metadata": {},
     "output_type": "execute_result"
    }
   ],
   "source": [
    "#when age and income = 0 interest rate is around 10.8953\n",
    "reg.intercept_"
   ]
  },
  {
   "cell_type": "code",
   "execution_count": 17,
   "id": "548c7481",
   "metadata": {},
   "outputs": [
    {
     "data": {
      "text/plain": [
       "array([11.05967359])"
      ]
     },
     "execution_count": 17,
     "metadata": {},
     "output_type": "execute_result"
    }
   ],
   "source": [
    "#predict interest rate for a 34 year old person who has an annual income of 120k\n",
    "reg.predict([[34, 120000]])"
   ]
  },
  {
   "cell_type": "markdown",
   "id": "a0a599bd",
   "metadata": {},
   "source": [
    "**Logistic Regression**\n",
    "* What is the probability of default based on the values of independent variables?\n",
    "* Are there issues of multicollinearity among the independent variables?\n",
    "* How do age, income, and employment length collectively influence the likelihood of loan default?"
   ]
  },
  {
   "cell_type": "code",
   "execution_count": 19,
   "id": "788a65b4",
   "metadata": {},
   "outputs": [],
   "source": [
    "from sklearn.linear_model import LinearRegression"
   ]
  }
 ],
 "metadata": {
  "kernelspec": {
   "display_name": "Python 3",
   "language": "python",
   "name": "python3"
  },
  "language_info": {
   "codemirror_mode": {
    "name": "ipython",
    "version": 3
   },
   "file_extension": ".py",
   "mimetype": "text/x-python",
   "name": "python",
   "nbconvert_exporter": "python",
   "pygments_lexer": "ipython3",
   "version": "3.8.8"
  }
 },
 "nbformat": 4,
 "nbformat_minor": 5
}
